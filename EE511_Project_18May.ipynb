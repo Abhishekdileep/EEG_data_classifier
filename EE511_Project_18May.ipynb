{
 "cells": [
  {
   "cell_type": "markdown",
   "metadata": {
    "id": "tGigoFeM7UPP"
   },
   "source": [
    "### Onetime Setup"
   ]
  },
  {
   "cell_type": "code",
   "execution_count": null,
   "metadata": {
    "id": "NMSj-CzQ6SCp"
   },
   "outputs": [],
   "source": [
    "%%capture\n",
    "!pip install mne\n",
    "!pip install pywavelets"
   ]
  },
  {
   "cell_type": "code",
   "execution_count": null,
   "metadata": {
    "colab": {
     "base_uri": "https://localhost:8080/"
    },
    "id": "WgK2oPGWdMT8",
    "outputId": "85f6aac8-225d-4100-a1f3-c496b35b36b1"
   },
   "outputs": [],
   "source": []
  },
  {
   "cell_type": "markdown",
   "metadata": {
    "id": "dn_Sp9pkdl3S"
   },
   "source": [
    "## Setup"
   ]
  },
  {
   "cell_type": "code",
   "execution_count": 39,
   "metadata": {
    "id": "9lSl-KaZ55z8"
   },
   "outputs": [],
   "source": [
    "import numpy as np\n",
    "import matplotlib.pyplot as plt\n",
    "import glob\n",
    "import mne\n",
    "\n",
    "CATEGORIES = ('Healthy', 'Epileptic')\n"
   ]
  },
  {
   "cell_type": "code",
   "execution_count": 40,
   "metadata": {
    "id": "NQBbHXhL7mMA"
   },
   "outputs": [
    {
     "ename": "KeyboardInterrupt",
     "evalue": "",
     "output_type": "error",
     "traceback": [
      "\u001b[1;31m---------------------------------------------------------------------------\u001b[0m",
      "\u001b[1;31mKeyboardInterrupt\u001b[0m                         Traceback (most recent call last)",
      "Cell \u001b[1;32mIn[40], line 8\u001b[0m\n\u001b[0;32m      6\u001b[0m \u001b[38;5;28;01mfor\u001b[39;00m category \u001b[38;5;129;01min\u001b[39;00m categories:\n\u001b[0;32m      7\u001b[0m   \u001b[38;5;28;01mfor\u001b[39;00m file_name \u001b[38;5;129;01min\u001b[39;00m glob\u001b[38;5;241m.\u001b[39mglob(\u001b[38;5;124mf\u001b[39m\u001b[38;5;124m'\u001b[39m\u001b[38;5;132;01m{\u001b[39;00mPATH_TO_DATA\u001b[38;5;132;01m}\u001b[39;00m\u001b[38;5;124m/\u001b[39m\u001b[38;5;132;01m{\u001b[39;00mcategory\u001b[38;5;132;01m}\u001b[39;00m\u001b[38;5;124m/*.fif\u001b[39m\u001b[38;5;124m'\u001b[39m):\n\u001b[1;32m----> 8\u001b[0m     file_data \u001b[38;5;241m=\u001b[39m \u001b[43mmne\u001b[49m\u001b[38;5;241;43m.\u001b[39;49m\u001b[43mio\u001b[49m\u001b[38;5;241;43m.\u001b[39;49m\u001b[43mread_raw_fif\u001b[49m\u001b[43m(\u001b[49m\u001b[43mfile_name\u001b[49m\u001b[43m,\u001b[49m\u001b[43m \u001b[49m\u001b[43mpreload\u001b[49m\u001b[38;5;241;43m=\u001b[39;49m\u001b[38;5;28;43;01mTrue\u001b[39;49;00m\u001b[43m)\u001b[49m\n\u001b[0;32m      9\u001b[0m     dataset[category]\u001b[38;5;241m.\u001b[39mappend(file_data)\n",
      "File \u001b[1;32m~\\miniconda3\\envs\\mne\\Lib\\site-packages\\mne\\io\\fiff\\raw.py:543\u001b[0m, in \u001b[0;36mread_raw_fif\u001b[1;34m(fname, allow_maxshield, preload, on_split_missing, verbose)\u001b[0m\n\u001b[0;32m    502\u001b[0m \u001b[38;5;129m@fill_doc\u001b[39m\n\u001b[0;32m    503\u001b[0m \u001b[38;5;28;01mdef\u001b[39;00m \u001b[38;5;21mread_raw_fif\u001b[39m(\n\u001b[0;32m    504\u001b[0m     fname, allow_maxshield\u001b[38;5;241m=\u001b[39m\u001b[38;5;28;01mFalse\u001b[39;00m, preload\u001b[38;5;241m=\u001b[39m\u001b[38;5;28;01mFalse\u001b[39;00m, on_split_missing\u001b[38;5;241m=\u001b[39m\u001b[38;5;124m\"\u001b[39m\u001b[38;5;124mraise\u001b[39m\u001b[38;5;124m\"\u001b[39m, verbose\u001b[38;5;241m=\u001b[39m\u001b[38;5;28;01mNone\u001b[39;00m\n\u001b[0;32m    505\u001b[0m ):\n\u001b[0;32m    506\u001b[0m \u001b[38;5;250m    \u001b[39m\u001b[38;5;124;03m\"\"\"Reader function for Raw FIF data.\u001b[39;00m\n\u001b[0;32m    507\u001b[0m \n\u001b[0;32m    508\u001b[0m \u001b[38;5;124;03m    Parameters\u001b[39;00m\n\u001b[1;32m   (...)\u001b[0m\n\u001b[0;32m    541\u001b[0m \u001b[38;5;124;03m    are updated accordingly.\u001b[39;00m\n\u001b[0;32m    542\u001b[0m \u001b[38;5;124;03m    \"\"\"\u001b[39;00m\n\u001b[1;32m--> 543\u001b[0m     \u001b[38;5;28;01mreturn\u001b[39;00m \u001b[43mRaw\u001b[49m\u001b[43m(\u001b[49m\n\u001b[0;32m    544\u001b[0m \u001b[43m        \u001b[49m\u001b[43mfname\u001b[49m\u001b[38;5;241;43m=\u001b[39;49m\u001b[43mfname\u001b[49m\u001b[43m,\u001b[49m\n\u001b[0;32m    545\u001b[0m \u001b[43m        \u001b[49m\u001b[43mallow_maxshield\u001b[49m\u001b[38;5;241;43m=\u001b[39;49m\u001b[43mallow_maxshield\u001b[49m\u001b[43m,\u001b[49m\n\u001b[0;32m    546\u001b[0m \u001b[43m        \u001b[49m\u001b[43mpreload\u001b[49m\u001b[38;5;241;43m=\u001b[39;49m\u001b[43mpreload\u001b[49m\u001b[43m,\u001b[49m\n\u001b[0;32m    547\u001b[0m \u001b[43m        \u001b[49m\u001b[43mverbose\u001b[49m\u001b[38;5;241;43m=\u001b[39;49m\u001b[43mverbose\u001b[49m\u001b[43m,\u001b[49m\n\u001b[0;32m    548\u001b[0m \u001b[43m        \u001b[49m\u001b[43mon_split_missing\u001b[49m\u001b[38;5;241;43m=\u001b[39;49m\u001b[43mon_split_missing\u001b[49m\u001b[43m,\u001b[49m\n\u001b[0;32m    549\u001b[0m \u001b[43m    \u001b[49m\u001b[43m)\u001b[49m\n",
      "File \u001b[1;32m<decorator-gen-179>:12\u001b[0m, in \u001b[0;36m__init__\u001b[1;34m(self, fname, allow_maxshield, preload, on_split_missing, verbose)\u001b[0m\n",
      "File \u001b[1;32m~\\miniconda3\\envs\\mne\\Lib\\site-packages\\mne\\io\\fiff\\raw.py:159\u001b[0m, in \u001b[0;36mRaw.__init__\u001b[1;34m(self, fname, allow_maxshield, preload, on_split_missing, verbose)\u001b[0m\n\u001b[0;32m    156\u001b[0m     \u001b[38;5;28mself\u001b[39m\u001b[38;5;241m.\u001b[39m_annotations \u001b[38;5;241m+\u001b[39m\u001b[38;5;241m=\u001b[39m annot\n\u001b[0;32m    158\u001b[0m \u001b[38;5;28;01mif\u001b[39;00m preload:\n\u001b[1;32m--> 159\u001b[0m     \u001b[38;5;28;43mself\u001b[39;49m\u001b[38;5;241;43m.\u001b[39;49m\u001b[43m_preload_data\u001b[49m\u001b[43m(\u001b[49m\u001b[43mpreload\u001b[49m\u001b[43m)\u001b[49m\n\u001b[0;32m    160\u001b[0m \u001b[38;5;28;01melse\u001b[39;00m:\n\u001b[0;32m    161\u001b[0m     \u001b[38;5;28mself\u001b[39m\u001b[38;5;241m.\u001b[39mpreload \u001b[38;5;241m=\u001b[39m \u001b[38;5;28;01mFalse\u001b[39;00m\n",
      "File \u001b[1;32m~\\miniconda3\\envs\\mne\\Lib\\site-packages\\mne\\io\\base.py:604\u001b[0m, in \u001b[0;36mBaseRaw._preload_data\u001b[1;34m(self, preload)\u001b[0m\n\u001b[0;32m    599\u001b[0m     data_buffer \u001b[38;5;241m=\u001b[39m \u001b[38;5;28;01mNone\u001b[39;00m\n\u001b[0;32m    600\u001b[0m logger\u001b[38;5;241m.\u001b[39minfo(\n\u001b[0;32m    601\u001b[0m     \u001b[38;5;124m\"\u001b[39m\u001b[38;5;124mReading \u001b[39m\u001b[38;5;132;01m%d\u001b[39;00m\u001b[38;5;124m ... \u001b[39m\u001b[38;5;132;01m%d\u001b[39;00m\u001b[38;5;124m  =  \u001b[39m\u001b[38;5;132;01m%9.3f\u001b[39;00m\u001b[38;5;124m ... \u001b[39m\u001b[38;5;132;01m%9.3f\u001b[39;00m\u001b[38;5;124m secs...\u001b[39m\u001b[38;5;124m\"\u001b[39m\n\u001b[0;32m    602\u001b[0m     \u001b[38;5;241m%\u001b[39m (\u001b[38;5;241m0\u001b[39m, \u001b[38;5;28mlen\u001b[39m(\u001b[38;5;28mself\u001b[39m\u001b[38;5;241m.\u001b[39mtimes) \u001b[38;5;241m-\u001b[39m \u001b[38;5;241m1\u001b[39m, \u001b[38;5;241m0.0\u001b[39m, \u001b[38;5;28mself\u001b[39m\u001b[38;5;241m.\u001b[39mtimes[\u001b[38;5;241m-\u001b[39m\u001b[38;5;241m1\u001b[39m])\n\u001b[0;32m    603\u001b[0m )\n\u001b[1;32m--> 604\u001b[0m \u001b[38;5;28mself\u001b[39m\u001b[38;5;241m.\u001b[39m_data \u001b[38;5;241m=\u001b[39m \u001b[38;5;28;43mself\u001b[39;49m\u001b[38;5;241;43m.\u001b[39;49m\u001b[43m_read_segment\u001b[49m\u001b[43m(\u001b[49m\u001b[43mdata_buffer\u001b[49m\u001b[38;5;241;43m=\u001b[39;49m\u001b[43mdata_buffer\u001b[49m\u001b[43m)\u001b[49m\n\u001b[0;32m    605\u001b[0m \u001b[38;5;28;01massert\u001b[39;00m \u001b[38;5;28mlen\u001b[39m(\u001b[38;5;28mself\u001b[39m\u001b[38;5;241m.\u001b[39m_data) \u001b[38;5;241m==\u001b[39m \u001b[38;5;28mself\u001b[39m\u001b[38;5;241m.\u001b[39minfo[\u001b[38;5;124m\"\u001b[39m\u001b[38;5;124mnchan\u001b[39m\u001b[38;5;124m\"\u001b[39m]\n\u001b[0;32m    606\u001b[0m \u001b[38;5;28mself\u001b[39m\u001b[38;5;241m.\u001b[39mpreload \u001b[38;5;241m=\u001b[39m \u001b[38;5;28;01mTrue\u001b[39;00m\n",
      "File \u001b[1;32m<decorator-gen-164>:12\u001b[0m, in \u001b[0;36m_read_segment\u001b[1;34m(self, start, stop, sel, data_buffer, verbose)\u001b[0m\n",
      "File \u001b[1;32m~\\miniconda3\\envs\\mne\\Lib\\site-packages\\mne\\io\\base.py:480\u001b[0m, in \u001b[0;36mBaseRaw._read_segment\u001b[1;34m(***failed resolving arguments***)\u001b[0m\n\u001b[0;32m    478\u001b[0m     \u001b[38;5;66;03m# reindex back to original file\u001b[39;00m\n\u001b[0;32m    479\u001b[0m     orig_idx \u001b[38;5;241m=\u001b[39m _convert_slice(\u001b[38;5;28mself\u001b[39m\u001b[38;5;241m.\u001b[39m_read_picks[fi][need_idx])\n\u001b[1;32m--> 480\u001b[0m     \u001b[43m_ReadSegmentFileProtector\u001b[49m\u001b[43m(\u001b[49m\u001b[38;5;28;43mself\u001b[39;49m\u001b[43m)\u001b[49m\u001b[38;5;241;43m.\u001b[39;49m\u001b[43m_read_segment_file\u001b[49m\u001b[43m(\u001b[49m\n\u001b[0;32m    481\u001b[0m \u001b[43m        \u001b[49m\u001b[43mdata\u001b[49m\u001b[43m[\u001b[49m\u001b[43m:\u001b[49m\u001b[43m,\u001b[49m\u001b[43m \u001b[49m\u001b[43mthis_sl\u001b[49m\u001b[43m]\u001b[49m\u001b[43m,\u001b[49m\n\u001b[0;32m    482\u001b[0m \u001b[43m        \u001b[49m\u001b[43morig_idx\u001b[49m\u001b[43m,\u001b[49m\n\u001b[0;32m    483\u001b[0m \u001b[43m        \u001b[49m\u001b[43mfi\u001b[49m\u001b[43m,\u001b[49m\n\u001b[0;32m    484\u001b[0m \u001b[43m        \u001b[49m\u001b[38;5;28;43mint\u001b[39;49m\u001b[43m(\u001b[49m\u001b[43mstart_file\u001b[49m\u001b[43m)\u001b[49m\u001b[43m,\u001b[49m\n\u001b[0;32m    485\u001b[0m \u001b[43m        \u001b[49m\u001b[38;5;28;43mint\u001b[39;49m\u001b[43m(\u001b[49m\u001b[43mstop_file\u001b[49m\u001b[43m)\u001b[49m\u001b[43m,\u001b[49m\n\u001b[0;32m    486\u001b[0m \u001b[43m        \u001b[49m\u001b[43mcals\u001b[49m\u001b[43m,\u001b[49m\n\u001b[0;32m    487\u001b[0m \u001b[43m        \u001b[49m\u001b[43mmult\u001b[49m\u001b[43m,\u001b[49m\n\u001b[0;32m    488\u001b[0m \u001b[43m    \u001b[49m\u001b[43m)\u001b[49m\n\u001b[0;32m    489\u001b[0m     offset \u001b[38;5;241m+\u001b[39m\u001b[38;5;241m=\u001b[39m n_read\n\u001b[0;32m    490\u001b[0m \u001b[38;5;28;01mreturn\u001b[39;00m data\n",
      "File \u001b[1;32m~\\miniconda3\\envs\\mne\\Lib\\site-packages\\mne\\io\\base.py:2514\u001b[0m, in \u001b[0;36m_ReadSegmentFileProtector._read_segment_file\u001b[1;34m(self, data, idx, fi, start, stop, cals, mult)\u001b[0m\n\u001b[0;32m   2513\u001b[0m \u001b[38;5;28;01mdef\u001b[39;00m \u001b[38;5;21m_read_segment_file\u001b[39m(\u001b[38;5;28mself\u001b[39m, data, idx, fi, start, stop, cals, mult):\n\u001b[1;32m-> 2514\u001b[0m     \u001b[38;5;28;01mreturn\u001b[39;00m \u001b[38;5;28;43mself\u001b[39;49m\u001b[38;5;241;43m.\u001b[39;49m\u001b[43m__raw\u001b[49m\u001b[38;5;241;43m.\u001b[39;49m\u001b[38;5;18;43m__class__\u001b[39;49m\u001b[38;5;241;43m.\u001b[39;49m\u001b[43m_read_segment_file\u001b[49m\u001b[43m(\u001b[49m\n\u001b[0;32m   2515\u001b[0m \u001b[43m        \u001b[49m\u001b[38;5;28;43mself\u001b[39;49m\u001b[43m,\u001b[49m\u001b[43m \u001b[49m\u001b[43mdata\u001b[49m\u001b[43m,\u001b[49m\u001b[43m \u001b[49m\u001b[43midx\u001b[49m\u001b[43m,\u001b[49m\u001b[43m \u001b[49m\u001b[43mfi\u001b[49m\u001b[43m,\u001b[49m\u001b[43m \u001b[49m\u001b[43mstart\u001b[49m\u001b[43m,\u001b[49m\u001b[43m \u001b[49m\u001b[43mstop\u001b[49m\u001b[43m,\u001b[49m\u001b[43m \u001b[49m\u001b[43mcals\u001b[49m\u001b[43m,\u001b[49m\u001b[43m \u001b[49m\u001b[43mmult\u001b[49m\n\u001b[0;32m   2516\u001b[0m \u001b[43m    \u001b[49m\u001b[43m)\u001b[49m\n",
      "File \u001b[1;32m~\\miniconda3\\envs\\mne\\Lib\\site-packages\\mne\\io\\fiff\\raw.py:444\u001b[0m, in \u001b[0;36mRaw._read_segment_file\u001b[1;34m(self, data, idx, fi, start, stop, cals, mult)\u001b[0m\n\u001b[0;32m    436\u001b[0m         \u001b[38;5;28;01melse\u001b[39;00m:\n\u001b[0;32m    437\u001b[0m             _mult_cal_one(\n\u001b[0;32m    438\u001b[0m                 data[:, offset : (offset \u001b[38;5;241m+\u001b[39m picksamp)],\n\u001b[0;32m    439\u001b[0m                 one\u001b[38;5;241m.\u001b[39mT,\n\u001b[1;32m   (...)\u001b[0m\n\u001b[0;32m    442\u001b[0m                 mult,\n\u001b[0;32m    443\u001b[0m             )\n\u001b[1;32m--> 444\u001b[0m     offset \u001b[38;5;241m+\u001b[39m\u001b[38;5;241m=\u001b[39m picksamp\n\u001b[0;32m    445\u001b[0m \u001b[38;5;28;01mif\u001b[39;00m n_bad:\n\u001b[0;32m    446\u001b[0m     warn(\n\u001b[0;32m    447\u001b[0m         \u001b[38;5;124mf\u001b[39m\u001b[38;5;124m\"\u001b[39m\u001b[38;5;124mFIF raw buffer could not be read, acquisition error \u001b[39m\u001b[38;5;124m\"\u001b[39m\n\u001b[0;32m    448\u001b[0m         \u001b[38;5;124mf\u001b[39m\u001b[38;5;124m\"\u001b[39m\u001b[38;5;124mlikely: \u001b[39m\u001b[38;5;132;01m{\u001b[39;00mn_bad\u001b[38;5;132;01m}\u001b[39;00m\u001b[38;5;124m samples set to zero\u001b[39m\u001b[38;5;124m\"\u001b[39m\n\u001b[0;32m    449\u001b[0m     )\n",
      "\u001b[1;31mKeyboardInterrupt\u001b[0m: "
     ]
    }
   ],
   "source": [
    "%%capture\n",
    "PATH_TO_DATA = \"Data/\"\n",
    "categories = ('Healthy', 'Epileptic')\n",
    "\n",
    "dataset = {categories[0]: [], categories[1]: []}\n",
    "\n",
    "for category in categories:\n",
    "  for file_name in glob.glob(f'{PATH_TO_DATA}/{category}/*.fif'):\n",
    "    file_data = mne.io.read_raw_fif(file_name, preload=True)\n",
    "    dataset[category].append(file_data)\n"
   ]
  },
  {
   "cell_type": "code",
   "execution_count": 41,
   "metadata": {
    "id": "dXz2jWwIlwkg"
   },
   "outputs": [],
   "source": [
    "import pickle\n",
    "\n",
    "# with open('Data/data_eeg.pkl', 'wb') as file:\n",
    "#     pickle.dump(dataset, file)\n",
    "\n",
    "with open('Data/data_eeg.pkl', 'rb') as file:\n",
    "    dataset = pickle.load(file)"
   ]
  },
  {
   "cell_type": "markdown",
   "metadata": {
    "id": "SEtojunVSUIu"
   },
   "source": [
    "# Process"
   ]
  },
  {
   "cell_type": "code",
   "execution_count": 42,
   "metadata": {
    "id": "Cu4yO2NyRZGH"
   },
   "outputs": [],
   "source": [
    "raw = dataset['Healthy'][0]\n",
    "raw1 = dataset['Epileptic'][0]"
   ]
  },
  {
   "cell_type": "code",
   "execution_count": 43,
   "metadata": {
    "colab": {
     "base_uri": "https://localhost:8080/"
    },
    "id": "KjpUxlMInt9j",
    "outputId": "9edc7fd2-ebeb-46b0-b995-abe67617c326"
   },
   "outputs": [
    {
     "data": {
      "text/plain": [
       "125.0"
      ]
     },
     "execution_count": 43,
     "metadata": {},
     "output_type": "execute_result"
    }
   ],
   "source": [
    "sfreq = dataset['Healthy'][0].info['sfreq']\n",
    "sfreq"
   ]
  },
  {
   "cell_type": "code",
   "execution_count": 44,
   "metadata": {
    "colab": {
     "base_uri": "https://localhost:8080/"
    },
    "id": "4Zz53qbwpnsq",
    "outputId": "2a98acb4-d581-4c88-8ce5-06c1518c9515"
   },
   "outputs": [
    {
     "data": {
      "text/plain": [
       "3.0"
      ]
     },
     "execution_count": 44,
     "metadata": {},
     "output_type": "execute_result"
    }
   ],
   "source": [
    "dataset['Healthy'][0].info['highpass']"
   ]
  },
  {
   "cell_type": "code",
   "execution_count": 45,
   "metadata": {
    "colab": {
     "base_uri": "https://localhost:8080/"
    },
    "id": "H4Xk3HSvp88z",
    "outputId": "073af75c-7eb7-4012-afd5-23cc3a29b1d7"
   },
   "outputs": [
    {
     "data": {
      "text/plain": [
       "30.0"
      ]
     },
     "execution_count": 45,
     "metadata": {},
     "output_type": "execute_result"
    }
   ],
   "source": [
    "dataset['Healthy'][0].info['lowpass']"
   ]
  },
  {
   "cell_type": "code",
   "execution_count": 46,
   "metadata": {
    "colab": {
     "base_uri": "https://localhost:8080/",
     "height": 346
    },
    "id": "qRMzrBfNqbar",
    "outputId": "4cef0304-2c19-435b-ccf9-781966a5aee0"
   },
   "outputs": [
    {
     "data": {
      "text/html": [
       "<details open>\n",
       "    <summary><strong>General</strong></summary>\n",
       "    <table class=\"table table-hover table-striped table-sm table-responsive small\">\n",
       "        <tr>\n",
       "            <th>Measurement date</th>\n",
       "            \n",
       "            <td>November 21, 2022  10:46:26 GMT</td>\n",
       "            \n",
       "        </tr>\n",
       "        <tr>\n",
       "            <th>Experimenter</th>\n",
       "            \n",
       "            <td>Unknown</td>\n",
       "            \n",
       "        </tr>\n",
       "        <tr>\n",
       "            <th>Participant</th>\n",
       "            \n",
       "            \n",
       "            <td>HRV010</td>\n",
       "            \n",
       "            \n",
       "        </tr>\n",
       "    </table>\n",
       "    </details>\n",
       "    <details open>\n",
       "        <summary><strong>Channels</strong></summary>\n",
       "        <table class=\"table table-hover table-striped table-sm table-responsive small\">\n",
       "            <tr>\n",
       "                <th>Digitized points</th>\n",
       "                \n",
       "                <td>Not available</td>\n",
       "                \n",
       "            </tr>\n",
       "            <tr>\n",
       "                <th>Good channels</th>\n",
       "                <td>19 EEG</td>\n",
       "            </tr>\n",
       "            <tr>\n",
       "                <th>Bad channels</th>\n",
       "                <td>None</td>\n",
       "            </tr>\n",
       "            <tr>\n",
       "                <th>EOG channels</th>\n",
       "                <td>Not available</td>\n",
       "            </tr>\n",
       "            <tr>\n",
       "                <th>ECG channels</th>\n",
       "                <td>Not available</td>\n",
       "            </tr>\n",
       "        </table>\n",
       "        </details>\n",
       "        <details open>\n",
       "            <summary><strong>Data</strong></summary>\n",
       "            <table class=\"table table-hover table-striped table-sm table-responsive small\">\n",
       "                \n",
       "                <tr>\n",
       "                    <th>Sampling frequency</th>\n",
       "                    <td>125.00 Hz</td>\n",
       "                </tr>\n",
       "                \n",
       "                \n",
       "                <tr>\n",
       "                    <th>Highpass</th>\n",
       "                    <td>3.00 Hz</td>\n",
       "                </tr>\n",
       "                \n",
       "                \n",
       "                <tr>\n",
       "                    <th>Lowpass</th>\n",
       "                    <td>30.00 Hz</td>\n",
       "                </tr>\n",
       "                \n",
       "                \n",
       "                \n",
       "                <tr>\n",
       "                    <th>Filenames</th>\n",
       "                    <td>HRV010_NewEpoch 3.fif</td>\n",
       "                </tr>\n",
       "                \n",
       "                \n",
       "                <tr>\n",
       "                    <th>Duration</th>\n",
       "                    <td>00:05:10 (HH:MM:SS)</td>\n",
       "                </tr>\n",
       "                \n",
       "            </table>\n",
       "            </details>"
      ],
      "text/plain": [
       "<Raw | HRV010_NewEpoch 3.fif, 19 x 38751 (310.0 s), ~5.6 MB, data loaded>"
      ]
     },
     "execution_count": 46,
     "metadata": {},
     "output_type": "execute_result"
    }
   ],
   "source": [
    "dataset['Healthy'][0]"
   ]
  },
  {
   "cell_type": "code",
   "execution_count": 47,
   "metadata": {
    "colab": {
     "base_uri": "https://localhost:8080/"
    },
    "id": "y7YO3VQjrzoe",
    "outputId": "135f869e-694d-46a8-c8cb-c570563cd88d"
   },
   "outputs": [
    {
     "name": "stderr",
     "output_type": "stream",
     "text": [
      "fatal: destination path 'Hilbert-Huang-transform' already exists and is not an empty directory.\n",
      "'mv' is not recognized as an internal or external command,\n",
      "operable program or batch file.\n"
     ]
    }
   ],
   "source": [
    "!git clone https://github.com/chendaichao/Hilbert-Huang-transform.git\n",
    "!mv /content/Hilbert-Huang-transform/torchHHT ."
   ]
  },
  {
   "cell_type": "code",
   "execution_count": 48,
   "metadata": {
    "id": "YlGOw-5Drcye"
   },
   "outputs": [],
   "source": [
    "import torch\n",
    "import numpy as np\n",
    "from matplotlib import pyplot as plt\n",
    "from torchHHT import hht, visualization\n",
    "from scipy.signal import chirp\n",
    "import IPython\n",
    "from scipy.stats import norm\n",
    "import glob\n",
    "import mne"
   ]
  },
  {
   "cell_type": "code",
   "execution_count": 49,
   "metadata": {
    "id": "Vy7zn0dGfJq1"
   },
   "outputs": [],
   "source": [
    "def get_summed_data(raw_data): return np.sum(raw_data.get_data(), axis = 0)"
   ]
  },
  {
   "cell_type": "code",
   "execution_count": null,
   "metadata": {
    "id": "KiIkXt1Kkzxw"
   },
   "outputs": [],
   "source": [
    "def get_hht_feature(arr):\n",
    "  arr.to('cuda')\n",
    "  _, imfs_env, imfs_freq = hht.hilbert_huang(arr, SAMPLING_FREQ, num_imf=3)\n",
    "  spectrum, _, _ = hht.hilbert_spectrum(imfs_env, imfs_freq, SAMPLING_FREQ, freq_lim = (2, 31), time_scale=1, freq_res = 1)\n",
    "  return np.array([torch.sum(spectrum[:, :10]), torch.sum(spectrum[:, 10:20]), torch.sum(spectrum[:, 20:])])\n",
    "  # return spectrum\n"
   ]
  },
  {
   "cell_type": "code",
   "execution_count": 51,
   "metadata": {
    "colab": {
     "base_uri": "https://localhost:8080/"
    },
    "id": "UCFwJV2Im_gY",
    "outputId": "3a8cc21f-a51b-4059-e56e-12ab4a5c7e7a"
   },
   "outputs": [
    {
     "data": {
      "text/plain": [
       "array([9.5396254e-06, 6.2654785e-06, 1.2463119e-06], dtype=float32)"
      ]
     },
     "execution_count": 51,
     "metadata": {},
     "output_type": "execute_result"
    }
   ],
   "source": [
    "SAMPLING_FREQ = 125\n",
    "get_hht_feature(get_summed_data(raw1)[:512])"
   ]
  },
  {
   "cell_type": "code",
   "execution_count": 52,
   "metadata": {
    "id": "pTvRJaB2hKcD"
   },
   "outputs": [],
   "source": [
    "SAMPLING_FREQ = 125\n",
    "BOOL_LABELS = {CATEGORIES[0]:0, CATEGORIES[1]:1}\n",
    "def generate_dataset(raw_dataset, window=512, stride = 448):\n",
    "  X, y = [], []\n",
    "  for category in CATEGORIES:\n",
    "    label = BOOL_LABELS[category]\n",
    "    for patient_data in raw_dataset[category]:\n",
    "      if patient_data.info['sfreq'] == SAMPLING_FREQ:\n",
    "        summed_data = get_summed_data(patient_data)\n",
    "        for i in range(0, summed_data.shape[0]-64, stride):\n",
    "          X.append(get_hht_feature(summed_data[i:i+window]))\n",
    "          y.append(label)\n",
    "\n",
    "  return np.array(X), np.array(y)"
   ]
  },
  {
   "cell_type": "code",
   "execution_count": 54,
   "metadata": {
    "id": "B3B-ExLKmXeT"
   },
   "outputs": [],
   "source": [
    "X, y = generate_dataset(dataset)"
   ]
  },
  {
   "cell_type": "code",
   "execution_count": 93,
   "metadata": {
    "colab": {
     "base_uri": "https://localhost:8080/"
    },
    "id": "E290KBL0rkeA",
    "outputId": "f0e2f098-044c-4c8e-ef3d-1f282de3d8b2"
   },
   "outputs": [],
   "source": [
    "X_new = X.reshape(3, 6495)"
   ]
  },
  {
   "cell_type": "code",
   "execution_count": 98,
   "metadata": {
    "colab": {
     "base_uri": "https://localhost:8080/"
    },
    "id": "xk2uflSzuG8S",
    "outputId": "a92d0cc6-e1e7-446f-b1eb-b483b8c38974"
   },
   "outputs": [
    {
     "data": {
      "image/png": "[encoded data removed]",
      "text/plain": [
       "<Figure size 640x480 with 1 Axes>"
      ]
     },
     "metadata": {},
     "output_type": "display_data"
    }
   ],
   "source": [
    "plt.plot(X_new[2])\n",
    "kernel0 = gaussian_kde(X[:upto].T)\n",
    "kernel1 = gaussian_kde(X[upto:].T)\n",
    "y0 = kernel0(X.T)\n",
    "y1 = kernel1(X.T)"
   ]
  },
  {
   "cell_type": "code",
   "execution_count": 127,
   "metadata": {
    "colab": {
     "base_uri": "https://localhost:8080/"
    },
    "id": "tYqbRaAvuRwn",
    "outputId": "17718222-5daa-4c5f-ef41-db79a484468b"
   },
   "outputs": [
    {
     "ename": "SyntaxError",
     "evalue": "invalid decimal literal (1842619516.py, line 2)",
     "output_type": "error",
     "traceback": [
      "\u001b[1;36m  Cell \u001b[1;32mIn[127], line 2\u001b[1;36m\u001b[0m\n\u001b[1;33m    print(f\"{i0.2f}\",)\u001b[0m\n\u001b[1;37m                ^\u001b[0m\n\u001b[1;31mSyntaxError\u001b[0m\u001b[1;31m:\u001b[0m invalid decimal literal\n"
     ]
    }
   ],
   "source": [
    "for i in y0:\n",
    "    print(f\"{i0.2f}\",)"
   ]
  },
  {
   "cell_type": "code",
   "execution_count": 70,
   "metadata": {
    "colab": {
     "base_uri": "https://localhost:8080/"
    },
    "id": "x5baUesauU_F",
    "outputId": "7dc649d2-5354-421c-de62-bb04e1f74ebb"
   },
   "outputs": [
    {
     "data": {
      "text/plain": [
       "2535"
      ]
     },
     "execution_count": 70,
     "metadata": {},
     "output_type": "execute_result"
    }
   ],
   "source": [
    "upto = 6495 - sum(y)\n",
    "upto"
   ]
  },
  {
   "cell_type": "markdown",
   "metadata": {
    "id": "zO2EQD5tutXj"
   },
   "source": [
    "### Guassian Kernel Density estimation"
   ]
  },
  {
   "cell_type": "code",
   "execution_count": 73,
   "metadata": {},
   "outputs": [
    {
     "data": {
      "text/plain": [
       "<scipy.stats._kde.gaussian_kde at 0x14ae5e5bbf0>"
      ]
     },
     "execution_count": 73,
     "metadata": {},
     "output_type": "execute_result"
    }
   ],
   "source": []
  },
  {
   "cell_type": "code",
   "execution_count": 71,
   "metadata": {
    "id": "9y2gWiE1ueOM"
   },
   "outputs": [],
   "source": [
    "from scipy.stats import gaussian_kde\n",
    "kernel0 = gaussian_kde(X[:upto].T)\n",
    "kernel1 = gaussian_kde(X[upto:].T)"
   ]
  },
  {
   "cell_type": "code",
   "execution_count": null,
   "metadata": {},
   "outputs": [],
   "source": [
    "y0 = kernel0(X.T)\n",
    "y1 = kernel1(X.T)"
   ]
  },
  {
   "cell_type": "code",
   "execution_count": 86,
   "metadata": {},
   "outputs": [
    {
     "data": {
      "text/plain": [
       "[<matplotlib.lines.Line2D at 0x14aca2bab40>]"
      ]
     },
     "execution_count": 86,
     "metadata": {},
     "output_type": "execute_result"
    },
    {
     "data": {
      "image/png": "[encoded data removed]",
      "text/plain": [
       "<Figure size 640x480 with 1 Axes>"
      ]
     },
     "metadata": {},
     "output_type": "display_data"
    }
   ],
   "source": [
    "plt.plot(y)"
   ]
  },
  {
   "cell_type": "code",
   "execution_count": 80,
   "metadata": {
    "colab": {
     "base_uri": "https://localhost:8080/"
    },
    "id": "_TVHmRFLyNsM",
    "outputId": "db5d2562-9e13-47a4-ccef-ec5ae373fa9a"
   },
   "outputs": [
    {
     "name": "stderr",
     "output_type": "stream",
     "text": [
      "C:\\Users\\abhis\\AppData\\Local\\Temp\\ipykernel_12116\\47330515.py:1: RuntimeWarning: divide by zero encountered in divide\n",
      "  r = y1 / y0\n",
      "C:\\Users\\abhis\\AppData\\Local\\Temp\\ipykernel_12116\\47330515.py:1: RuntimeWarning: overflow encountered in divide\n",
      "  r = y1 / y0\n"
     ]
    },
    {
     "data": {
      "text/plain": [
       "1887"
      ]
     },
     "execution_count": 80,
     "metadata": {},
     "output_type": "execute_result"
    }
   ],
   "source": [
    "r = y1 / y0\n",
    "np.sum(r > 1)"
   ]
  },
  {
   "cell_type": "code",
   "execution_count": 81,
   "metadata": {
    "colab": {
     "base_uri": "https://localhost:8080/"
    },
    "id": "ORhmfAN9zClb",
    "outputId": "e4c91a95-5be5-41f5-91c8-233077f17405"
   },
   "outputs": [
    {
     "data": {
      "text/plain": [
       "(6495,)"
      ]
     },
     "execution_count": 81,
     "metadata": {},
     "output_type": "execute_result"
    }
   ],
   "source": [
    "r.shape"
   ]
  },
  {
   "cell_type": "code",
   "execution_count": 82,
   "metadata": {
    "colab": {
     "base_uri": "https://localhost:8080/"
    },
    "id": "Zx7L-Nlnu-6r",
    "outputId": "90e5154b-ca65-49af-b0e6-dc0439074336"
   },
   "outputs": [
    {
     "data": {
      "text/plain": [
       "array([0.21061049, 0.27005314, 0.22158938, 0.24846037, 0.27085089,\n",
       "       0.34956777, 0.30012372, 0.26387781, 0.35779402, 0.25639364,\n",
       "       0.23432794, 0.22963387, 0.20456571, 0.21526314, 0.25690225,\n",
       "       0.23122429, 0.26411492, 0.22933463, 0.25519514, 0.30771354,\n",
       "       0.30329453, 0.20629122, 0.24989702, 0.25371446, 0.29833747,\n",
       "       0.20266755, 0.23915715, 0.30781604, 0.47838315, 0.29894108,\n",
       "       0.25822925, 0.71560553])"
      ]
     },
     "execution_count": 82,
     "metadata": {},
     "output_type": "execute_result"
    }
   ],
   "source": [
    "dd = X[-32:].T\n",
    "# dd = X[:16].T\n",
    "kernel1(dd) / kernel0(dd)"
   ]
  },
  {
   "cell_type": "code",
   "execution_count": 114,
   "metadata": {
    "id": "3s9YE8PDyYE7"
   },
   "outputs": [],
   "source": [
    "def get_roc_data(y, y1, y0):\n",
    "  r = y1 / y0\n",
    "  # import ipdb \n",
    "  # ipdb.set_trace()\n",
    "  total = len(y)\n",
    "  # y = np.array(y, dtype=np.bool)\n",
    "  tpr, fpr = [], []\n",
    "  for thresh in np.arange(0.01, 10, 0.1):\n",
    "    c = r > thresh\n",
    "    c = np.array(c, dtype=np.int32)\n",
    "    diff = 5*c - 2*y\n",
    "    tp = np.sum(diff == 3) / total\n",
    "    fp = np.sum(diff == 5) / total\n",
    "    if fp == 0 : \n",
    "        fp = 1e-3\n",
    "    fpr.append(fp)\n",
    "    tpr.append(tp)\n",
    "  return np.array(fpr) , np.array(tpr)"
   ]
  },
  {
   "cell_type": "code",
   "execution_count": 115,
   "metadata": {
    "colab": {
     "base_uri": "https://localhost:8080/",
     "height": 211
    },
    "id": "hlvlSblEvTEX",
    "outputId": "aee07372-7359-4e0b-f67d-9373806538ee"
   },
   "outputs": [
    {
     "name": "stderr",
     "output_type": "stream",
     "text": [
      "C:\\Users\\abhis\\AppData\\Local\\Temp\\ipykernel_12116\\2335707123.py:2: RuntimeWarning: divide by zero encountered in divide\n",
      "  r = y1 / y0\n",
      "C:\\Users\\abhis\\AppData\\Local\\Temp\\ipykernel_12116\\2335707123.py:2: RuntimeWarning: overflow encountered in divide\n",
      "  r = y1 / y0\n"
     ]
    },
    {
     "name": "stdout",
     "output_type": "stream",
     "text": [
      "(100,) (100,)\n"
     ]
    },
    {
     "ename": "ValueError",
     "evalue": "x is neither increasing nor decreasing : [3.85373364e-01 3.72902232e-01 2.79291763e-01 1.76597383e-01\n 1.39491917e-01 1.14395689e-01 9.17628945e-02 7.71362587e-02\n 6.65127021e-02 5.92763664e-02 4.95765974e-02 4.06466513e-02\n 3.43341032e-02 2.86374134e-02 2.26327945e-02 1.84757506e-02\n 1.64742109e-02 1.46266359e-02 1.27790608e-02 1.17013087e-02\n 1.04695920e-02 9.39183988e-03 8.46805235e-03 7.85219400e-03\n 6.31254811e-03 5.69668976e-03 4.92686682e-03 4.31100847e-03\n 3.69515012e-03 2.61739800e-03 2.46343341e-03 1.84757506e-03\n 1.38568129e-03 9.23787529e-04 7.69822941e-04 7.69822941e-04\n 6.15858353e-04 6.15858353e-04 6.15858353e-04 3.07929176e-04\n 3.07929176e-04 1.53964588e-04 1.00000000e-03 1.00000000e-03\n 1.00000000e-03 1.00000000e-03 1.00000000e-03 1.00000000e-03\n 1.00000000e-03 1.00000000e-03 1.00000000e-03 1.00000000e-03\n 1.00000000e-03 1.00000000e-03 1.00000000e-03 1.00000000e-03\n 1.00000000e-03 1.00000000e-03 1.00000000e-03 1.00000000e-03\n 1.00000000e-03 1.00000000e-03 1.00000000e-03 1.00000000e-03\n 1.00000000e-03 1.00000000e-03 1.00000000e-03 1.00000000e-03\n 1.00000000e-03 1.00000000e-03 1.00000000e-03 1.00000000e-03\n 1.00000000e-03 1.00000000e-03 1.00000000e-03 1.00000000e-03\n 1.00000000e-03 1.00000000e-03 1.00000000e-03 1.00000000e-03\n 1.00000000e-03 1.00000000e-03 1.00000000e-03 1.00000000e-03\n 1.00000000e-03 1.00000000e-03 1.00000000e-03 1.00000000e-03\n 1.00000000e-03 1.00000000e-03 1.00000000e-03 1.00000000e-03\n 1.00000000e-03 1.00000000e-03 1.00000000e-03 1.00000000e-03\n 1.00000000e-03 1.00000000e-03 1.00000000e-03 1.00000000e-03].",
     "output_type": "error",
     "traceback": [
      "\u001b[1;31m---------------------------------------------------------------------------\u001b[0m",
      "\u001b[1;31mValueError\u001b[0m                                Traceback (most recent call last)",
      "Cell \u001b[1;32mIn[115], line 7\u001b[0m\n\u001b[0;32m      5\u001b[0m plt\u001b[38;5;241m.\u001b[39mplot(fpr, tpr)\n\u001b[0;32m      6\u001b[0m \u001b[38;5;28mprint\u001b[39m(fpr\u001b[38;5;241m.\u001b[39mshape,  tpr\u001b[38;5;241m.\u001b[39mshape)\n\u001b[1;32m----> 7\u001b[0m roc_auc \u001b[38;5;241m=\u001b[39m \u001b[43mauc\u001b[49m\u001b[43m(\u001b[49m\u001b[43mfpr\u001b[49m\u001b[43m,\u001b[49m\u001b[43m \u001b[49m\u001b[43mtpr\u001b[49m\u001b[43m)\u001b[49m\n\u001b[0;32m      8\u001b[0m \u001b[38;5;66;03m# Plot the ROC curve\u001b[39;00m\n\u001b[0;32m      9\u001b[0m plt\u001b[38;5;241m.\u001b[39mfigure()\n",
      "File \u001b[1;32m~\\AppData\\Roaming\\Python\\Python312\\site-packages\\sklearn\\utils\\_param_validation.py:213\u001b[0m, in \u001b[0;36mvalidate_params.<locals>.decorator.<locals>.wrapper\u001b[1;34m(*args, **kwargs)\u001b[0m\n\u001b[0;32m    207\u001b[0m \u001b[38;5;28;01mtry\u001b[39;00m:\n\u001b[0;32m    208\u001b[0m     \u001b[38;5;28;01mwith\u001b[39;00m config_context(\n\u001b[0;32m    209\u001b[0m         skip_parameter_validation\u001b[38;5;241m=\u001b[39m(\n\u001b[0;32m    210\u001b[0m             prefer_skip_nested_validation \u001b[38;5;129;01mor\u001b[39;00m global_skip_validation\n\u001b[0;32m    211\u001b[0m         )\n\u001b[0;32m    212\u001b[0m     ):\n\u001b[1;32m--> 213\u001b[0m         \u001b[38;5;28;01mreturn\u001b[39;00m \u001b[43mfunc\u001b[49m\u001b[43m(\u001b[49m\u001b[38;5;241;43m*\u001b[39;49m\u001b[43margs\u001b[49m\u001b[43m,\u001b[49m\u001b[43m \u001b[49m\u001b[38;5;241;43m*\u001b[39;49m\u001b[38;5;241;43m*\u001b[39;49m\u001b[43mkwargs\u001b[49m\u001b[43m)\u001b[49m\n\u001b[0;32m    214\u001b[0m \u001b[38;5;28;01mexcept\u001b[39;00m InvalidParameterError \u001b[38;5;28;01mas\u001b[39;00m e:\n\u001b[0;32m    215\u001b[0m     \u001b[38;5;66;03m# When the function is just a wrapper around an estimator, we allow\u001b[39;00m\n\u001b[0;32m    216\u001b[0m     \u001b[38;5;66;03m# the function to delegate validation to the estimator, but we replace\u001b[39;00m\n\u001b[0;32m    217\u001b[0m     \u001b[38;5;66;03m# the name of the estimator by the name of the function in the error\u001b[39;00m\n\u001b[0;32m    218\u001b[0m     \u001b[38;5;66;03m# message to avoid confusion.\u001b[39;00m\n\u001b[0;32m    219\u001b[0m     msg \u001b[38;5;241m=\u001b[39m re\u001b[38;5;241m.\u001b[39msub(\n\u001b[0;32m    220\u001b[0m         \u001b[38;5;124mr\u001b[39m\u001b[38;5;124m\"\u001b[39m\u001b[38;5;124mparameter of \u001b[39m\u001b[38;5;124m\\\u001b[39m\u001b[38;5;124mw+ must be\u001b[39m\u001b[38;5;124m\"\u001b[39m,\n\u001b[0;32m    221\u001b[0m         \u001b[38;5;124mf\u001b[39m\u001b[38;5;124m\"\u001b[39m\u001b[38;5;124mparameter of \u001b[39m\u001b[38;5;132;01m{\u001b[39;00mfunc\u001b[38;5;241m.\u001b[39m\u001b[38;5;18m__qualname__\u001b[39m\u001b[38;5;132;01m}\u001b[39;00m\u001b[38;5;124m must be\u001b[39m\u001b[38;5;124m\"\u001b[39m,\n\u001b[0;32m    222\u001b[0m         \u001b[38;5;28mstr\u001b[39m(e),\n\u001b[0;32m    223\u001b[0m     )\n",
      "File \u001b[1;32m~\\AppData\\Roaming\\Python\\Python312\\site-packages\\sklearn\\metrics\\_ranking.py:106\u001b[0m, in \u001b[0;36mauc\u001b[1;34m(x, y)\u001b[0m\n\u001b[0;32m    104\u001b[0m         direction \u001b[38;5;241m=\u001b[39m \u001b[38;5;241m-\u001b[39m\u001b[38;5;241m1\u001b[39m\n\u001b[0;32m    105\u001b[0m     \u001b[38;5;28;01melse\u001b[39;00m:\n\u001b[1;32m--> 106\u001b[0m         \u001b[38;5;28;01mraise\u001b[39;00m \u001b[38;5;167;01mValueError\u001b[39;00m(\u001b[38;5;124m\"\u001b[39m\u001b[38;5;124mx is neither increasing nor decreasing : \u001b[39m\u001b[38;5;132;01m{}\u001b[39;00m\u001b[38;5;124m.\u001b[39m\u001b[38;5;124m\"\u001b[39m\u001b[38;5;241m.\u001b[39mformat(x))\n\u001b[0;32m    108\u001b[0m area \u001b[38;5;241m=\u001b[39m direction \u001b[38;5;241m*\u001b[39m trapezoid(y, x)\n\u001b[0;32m    109\u001b[0m \u001b[38;5;28;01mif\u001b[39;00m \u001b[38;5;28misinstance\u001b[39m(area, np\u001b[38;5;241m.\u001b[39mmemmap):\n\u001b[0;32m    110\u001b[0m     \u001b[38;5;66;03m# Reductions such as .sum used internally in trapezoid do not return a\u001b[39;00m\n\u001b[0;32m    111\u001b[0m     \u001b[38;5;66;03m# scalar by default for numpy.memmap instances contrary to\u001b[39;00m\n\u001b[0;32m    112\u001b[0m     \u001b[38;5;66;03m# regular numpy.ndarray instances.\u001b[39;00m\n",
      "\u001b[1;31mValueError\u001b[0m: x is neither increasing nor decreasing : [3.85373364e-01 3.72902232e-01 2.79291763e-01 1.76597383e-01\n 1.39491917e-01 1.14395689e-01 9.17628945e-02 7.71362587e-02\n 6.65127021e-02 5.92763664e-02 4.95765974e-02 4.06466513e-02\n 3.43341032e-02 2.86374134e-02 2.26327945e-02 1.84757506e-02\n 1.64742109e-02 1.46266359e-02 1.27790608e-02 1.17013087e-02\n 1.04695920e-02 9.39183988e-03 8.46805235e-03 7.85219400e-03\n 6.31254811e-03 5.69668976e-03 4.92686682e-03 4.31100847e-03\n 3.69515012e-03 2.61739800e-03 2.46343341e-03 1.84757506e-03\n 1.38568129e-03 9.23787529e-04 7.69822941e-04 7.69822941e-04\n 6.15858353e-04 6.15858353e-04 6.15858353e-04 3.07929176e-04\n 3.07929176e-04 1.53964588e-04 1.00000000e-03 1.00000000e-03\n 1.00000000e-03 1.00000000e-03 1.00000000e-03 1.00000000e-03\n 1.00000000e-03 1.00000000e-03 1.00000000e-03 1.00000000e-03\n 1.00000000e-03 1.00000000e-03 1.00000000e-03 1.00000000e-03\n 1.00000000e-03 1.00000000e-03 1.00000000e-03 1.00000000e-03\n 1.00000000e-03 1.00000000e-03 1.00000000e-03 1.00000000e-03\n 1.00000000e-03 1.00000000e-03 1.00000000e-03 1.00000000e-03\n 1.00000000e-03 1.00000000e-03 1.00000000e-03 1.00000000e-03\n 1.00000000e-03 1.00000000e-03 1.00000000e-03 1.00000000e-03\n 1.00000000e-03 1.00000000e-03 1.00000000e-03 1.00000000e-03\n 1.00000000e-03 1.00000000e-03 1.00000000e-03 1.00000000e-03\n 1.00000000e-03 1.00000000e-03 1.00000000e-03 1.00000000e-03\n 1.00000000e-03 1.00000000e-03 1.00000000e-03 1.00000000e-03\n 1.00000000e-03 1.00000000e-03 1.00000000e-03 1.00000000e-03\n 1.00000000e-03 1.00000000e-03 1.00000000e-03 1.00000000e-03]."
     ]
    },
    {
     "data": {
      "image/png": "[encoded data removed]",
      "text/plain": [
       "<Figure size 640x480 with 1 Axes>"
      ]
     },
     "metadata": {},
     "output_type": "display_data"
    }
   ],
   "source": [
    "from sklearn.metrics import roc_curve, auc\n",
    "\n",
    "# fpr, tpr, thresholds = roc_curve(y, y1 / y0)\n",
    "fpr, tpr = get_roc_data(y, y1, y0)\n",
    "plt.plot(fpr, tpr)\n",
    "print(fpr.shape,  tpr.shape)\n",
    "roc_auc = auc(fpr, tpr)\n",
    "# Plot the ROC curve\n",
    "plt.figure()\n",
    "plt.plot(fpr, tpr, label='ROC curve (area = %0.2f)' % roc_auc)\n",
    "plt.plot([0, 1], [0, 1], 'k--', label='No Skill')\n",
    "plt.xlim([0.0, 1.0])\n",
    "plt.ylim([0.0, 1.05])\n",
    "plt.xlabel('False Positive Rate')\n",
    "plt.ylabel('True Positive Rate')\n",
    "plt.title('ROC Curve')\n",
    "plt.legend()\n",
    "plt.show()"
   ]
  },
  {
   "cell_type": "code",
   "execution_count": null,
   "metadata": {
    "id": "C3rR9CHeyJVo"
   },
   "outputs": [],
   "source": [
    "sum(fpr)"
   ]
  },
  {
   "cell_type": "code",
   "execution_count": 88,
   "metadata": {},
   "outputs": [
    {
     "data": {
      "text/plain": [
       "14.018321785989224"
      ]
     },
     "execution_count": 88,
     "metadata": {},
     "output_type": "execute_result"
    }
   ],
   "source": [
    "sum(tpr)"
   ]
  },
  {
   "cell_type": "code",
   "execution_count": 108,
   "metadata": {},
   "outputs": [
    {
     "data": {
      "text/plain": [
       "[<matplotlib.lines.Line2D at 0x14ad37d5370>]"
      ]
     },
     "execution_count": 108,
     "metadata": {},
     "output_type": "execute_result"
    },
    {
     "data": {
      "image/png": "[encoded data removed]",
      "text/plain": [
       "<Figure size 640x480 with 1 Axes>"
      ]
     },
     "metadata": {},
     "output_type": "display_data"
    }
   ],
   "source": [
    " plt.plot(fpr , tpr)"
   ]
  },
  {
   "cell_type": "code",
   "execution_count": 105,
   "metadata": {},
   "outputs": [
    {
     "data": {
      "text/plain": [
       "array([0.60969977, 0.60939184, 0.5504234 , 0.4448037 , 0.38568129,\n",
       "       0.3456505 , 0.31177829, 0.28545035, 0.26836028, 0.25188607,\n",
       "       0.23802925, 0.22832948, 0.21924557, 0.20969977, 0.20015396,\n",
       "       0.19137798, 0.18383372, 0.17551963, 0.16812933, 0.16381832,\n",
       "       0.15750577, 0.15257891, 0.14734411, 0.14364896, 0.1408776 ,\n",
       "       0.13687452, 0.13394919, 0.13010008, 0.12763664, 0.12532717,\n",
       "       0.12240185, 0.11993841, 0.11855273, 0.11639723, 0.11485758,\n",
       "       0.11224018, 0.11054657, 0.10854503, 0.10762125, 0.10623557,\n",
       "       0.10531178, 0.10331024, 0.10223249, 0.10161663, 0.09961509,\n",
       "       0.09946112, 0.09899923, 0.09822941, 0.09761355, 0.09699769,\n",
       "       0.09638183, 0.09576597, 0.09499615, 0.09468822, 0.09453426,\n",
       "       0.0939184 , 0.09345651, 0.09314858, 0.09284065, 0.09222479,\n",
       "       0.09191686, 0.09176289, 0.091301  , 0.09099307, 0.09037721,\n",
       "       0.09006928, 0.08991532, 0.08945343, 0.08899153, 0.08883757,\n",
       "       0.08837567, 0.08822171, 0.08806774, 0.08791378, 0.08775982,\n",
       "       0.08760585, 0.08760585, 0.08714396, 0.08698999, 0.08683603,\n",
       "       0.0865281 , 0.0865281 , 0.0865281 , 0.08637413, 0.08637413,\n",
       "       0.08637413, 0.08637413, 0.08622017, 0.08622017, 0.08622017,\n",
       "       0.08622017, 0.0860662 , 0.08591224, 0.08591224, 0.08560431,\n",
       "       0.08514242, 0.08498845, 0.08498845, 0.08498845, 0.08483449])"
      ]
     },
     "execution_count": 105,
     "metadata": {},
     "output_type": "execute_result"
    }
   ],
   "source": [
    "tpr"
   ]
  },
  {
   "cell_type": "code",
   "execution_count": 109,
   "metadata": {},
   "outputs": [
    {
     "data": {
      "text/plain": [
       "array([3.85373364e-01, 3.72902232e-01, 2.79291763e-01, 1.76597383e-01,\n",
       "       1.39491917e-01, 1.14395689e-01, 9.17628945e-02, 7.71362587e-02,\n",
       "       6.65127021e-02, 5.92763664e-02, 4.95765974e-02, 4.06466513e-02,\n",
       "       3.43341032e-02, 2.86374134e-02, 2.26327945e-02, 1.84757506e-02,\n",
       "       1.64742109e-02, 1.46266359e-02, 1.27790608e-02, 1.17013087e-02,\n",
       "       1.04695920e-02, 9.39183988e-03, 8.46805235e-03, 7.85219400e-03,\n",
       "       6.31254811e-03, 5.69668976e-03, 4.92686682e-03, 4.31100847e-03,\n",
       "       3.69515012e-03, 2.61739800e-03, 2.46343341e-03, 1.84757506e-03,\n",
       "       1.38568129e-03, 9.23787529e-04, 7.69822941e-04, 7.69822941e-04,\n",
       "       6.15858353e-04, 6.15858353e-04, 6.15858353e-04, 3.07929176e-04,\n",
       "       3.07929176e-04, 1.53964588e-04, 1.00000000e-05, 1.00000000e-05,\n",
       "       1.00000000e-05, 1.00000000e-05, 1.00000000e-05, 1.00000000e-05,\n",
       "       1.00000000e-05, 1.00000000e-05, 1.00000000e-05, 1.00000000e-05,\n",
       "       1.00000000e-05, 1.00000000e-05, 1.00000000e-05, 1.00000000e-05,\n",
       "       1.00000000e-05, 1.00000000e-05, 1.00000000e-05, 1.00000000e-05,\n",
       "       1.00000000e-05, 1.00000000e-05, 1.00000000e-05, 1.00000000e-05,\n",
       "       1.00000000e-05, 1.00000000e-05, 1.00000000e-05, 1.00000000e-05,\n",
       "       1.00000000e-05, 1.00000000e-05, 1.00000000e-05, 1.00000000e-05,\n",
       "       1.00000000e-05, 1.00000000e-05, 1.00000000e-05, 1.00000000e-05,\n",
       "       1.00000000e-05, 1.00000000e-05, 1.00000000e-05, 1.00000000e-05,\n",
       "       1.00000000e-05, 1.00000000e-05, 1.00000000e-05, 1.00000000e-05,\n",
       "       1.00000000e-05, 1.00000000e-05, 1.00000000e-05, 1.00000000e-05,\n",
       "       1.00000000e-05, 1.00000000e-05, 1.00000000e-05, 1.00000000e-05,\n",
       "       1.00000000e-05, 1.00000000e-05, 1.00000000e-05, 1.00000000e-05,\n",
       "       1.00000000e-05, 1.00000000e-05, 1.00000000e-05, 1.00000000e-05])"
      ]
     },
     "execution_count": 109,
     "metadata": {},
     "output_type": "execute_result"
    }
   ],
   "source": [
    "fpr"
   ]
  },
  {
   "cell_type": "code",
   "execution_count": null,
   "metadata": {},
   "outputs": [],
   "source": []
  }
 ],
 "metadata": {
  "colab": {
   "provenance": []
  },
  "kernelspec": {
   "display_name": "Python 3 (ipykernel)",
   "language": "python",
   "name": "python3"
  },
  "language_info": {
   "codemirror_mode": {
    "name": "ipython",
    "version": 3
   },
   "file_extension": ".py",
   "mimetype": "text/x-python",
   "name": "python",
   "nbconvert_exporter": "python",
   "pygments_lexer": "ipython3",
   "version": "3.12.2"
  }
 },
 "nbformat": 4,
 "nbformat_minor": 4
}
